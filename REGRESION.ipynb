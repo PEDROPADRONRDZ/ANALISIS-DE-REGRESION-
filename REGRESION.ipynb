{
 "cells": [
  {
   "cell_type": "markdown",
   "metadata": {},
   "source": [
    "**IMPORTANDO LIBRERIAS**"
   ]
  },
  {
   "cell_type": "code",
   "execution_count": 116,
   "metadata": {},
   "outputs": [],
   "source": [
    "from selenium import webdriver"
   ]
  },
  {
   "cell_type": "code",
   "execution_count": 117,
   "metadata": {},
   "outputs": [],
   "source": [
    "from bs4 import BeautifulSoup as bs"
   ]
  },
  {
   "cell_type": "code",
   "execution_count": 4,
   "metadata": {},
   "outputs": [],
   "source": [
    "import pandas as pd\n",
    "pd.set_option(\"display.precision\", 1)"
   ]
  },
  {
   "cell_type": "code",
   "execution_count": 3,
   "metadata": {},
   "outputs": [],
   "source": [
    "import seaborn as sns"
   ]
  },
  {
   "cell_type": "code",
   "execution_count": 2,
   "metadata": {},
   "outputs": [],
   "source": [
    "import matplotlib.pyplot as plt\n",
    "from matplotlib import style\n",
    "plt.rcParams['image.cmap'] = \"bwr\"\n",
    "#plt.rcParams['figure.dpi'] = \"100\"\n",
    "plt.rcParams['savefig.bbox'] = \"tight\"\n",
    "style.use('ggplot') or plt.style.use('ggplot')"
   ]
  },
  {
   "cell_type": "code",
   "execution_count": 5,
   "metadata": {},
   "outputs": [],
   "source": [
    "from scipy.stats import pearsonr\n",
    "from sklearn.linear_model import LinearRegression"
   ]
  },
  {
   "cell_type": "markdown",
   "metadata": {},
   "source": [
    "**WEB SCRAPLING**"
   ]
  },
  {
   "cell_type": "code",
   "execution_count": 135,
   "metadata": {},
   "outputs": [],
   "source": [
    "lista_m2 = []\n",
    "lista_precio = []\n",
    "lista_ubicacion = []"
   ]
  },
  {
   "cell_type": "code",
   "execution_count": 89,
   "metadata": {},
   "outputs": [],
   "source": [
    "URL_1 = 'https://www.inmuebles24.com/casas-en-monterrey.html'"
   ]
  },
  {
   "cell_type": "code",
   "execution_count": 93,
   "metadata": {},
   "outputs": [],
   "source": [
    "URL_2 = 'https://www.inmuebles24.com/casas-en-monterrey-pagina-2.html'"
   ]
  },
  {
   "cell_type": "code",
   "execution_count": 111,
   "metadata": {},
   "outputs": [],
   "source": [
    "URL_3 = 'https://www.inmuebles24.com/casas-en-monterrey-pagina-3.html'"
   ]
  },
  {
   "cell_type": "code",
   "execution_count": 112,
   "metadata": {},
   "outputs": [],
   "source": [
    "driver_1 = webdriver.Chrome(\"C:/chromedriver.exe\")\n",
    "driver_1.get(URL_1)"
   ]
  },
  {
   "cell_type": "code",
   "execution_count": 132,
   "metadata": {},
   "outputs": [],
   "source": [
    "contenido_1 = driver_1.page_source #OBTENER EL CODIGO HTML"
   ]
  },
  {
   "cell_type": "code",
   "execution_count": 133,
   "metadata": {},
   "outputs": [],
   "source": [
    "soup_1 = bs(contenido_1) #LEER EL CODIGO HTML"
   ]
  },
  {
   "cell_type": "code",
   "execution_count": 134,
   "metadata": {},
   "outputs": [
    {
     "data": {
      "text/plain": [
       "<title>Casas en Monterrey - Inmuebles24</title>"
      ]
     },
     "execution_count": 134,
     "metadata": {},
     "output_type": "execute_result"
    }
   ],
   "source": [
    "soup_1.title"
   ]
  },
  {
   "cell_type": "code",
   "execution_count": 136,
   "metadata": {},
   "outputs": [],
   "source": [
    "for tarjeta in soup_1.find_all(\"div\",attrs = {\"class\":\"sc-i1odl-2 gmMYEe\"}): #Dentro del codigo HTML va a encontrar todos los objetos tipos div y con esa clase\n",
    "    #SON LAS TAREJTAS EN LA PAGINA WEB QUE CONTIENEN EL PRECIO, METROS CUADRADOS, UBICACION, ETC.\n",
    "    area = tarjeta.find(\"span\")\n",
    "    lista_m2.append(area.text)\n",
    "    \n",
    "    precio = tarjeta.find(\"div\",attrs = {\"data-qa\":\"POSTING_CARD_PRICE\"}) \n",
    "    lista_precio.append(precio.text)\n",
    "    \n",
    "    ubi = tarjeta.find(\"div\",attrs = {\"data-qa\":\"POSTING_CARD_LOCATION\"})\n",
    "    lista_ubicacion.append(ubi.text)\n",
    "\n",
    "#Para traer la area,precio y ubicacion de la tarjeta dentro de la pagina web, vamos a encontrar (metodo find) dentro de esa tarjeta\n",
    "#los objetos de tipo div con sus respectivas data-qa según el area, precio o clase en la de ubicacion en el codigo HTML de la pagina"
   ]
  },
  {
   "cell_type": "code",
   "execution_count": 96,
   "metadata": {},
   "outputs": [],
   "source": [
    "driver_2 = webdriver.Chrome(\"C:/chromedriver.exe\")\n",
    "driver_2.get(URL_2)"
   ]
  },
  {
   "cell_type": "code",
   "execution_count": 137,
   "metadata": {},
   "outputs": [],
   "source": [
    "contenido_2 = driver_2.page_source "
   ]
  },
  {
   "cell_type": "code",
   "execution_count": 138,
   "metadata": {},
   "outputs": [],
   "source": [
    "soup_2 = bs(contenido_2) "
   ]
  },
  {
   "cell_type": "code",
   "execution_count": 139,
   "metadata": {},
   "outputs": [],
   "source": [
    "for tarjeta in soup_2.find_all(\"div\",attrs = {\"class\":\"sc-i1odl-2 gmMYEe\"}): #Dentro del codigo HTML va a encontrar todos los objetos tipos div y con esa clase\n",
    "    #SON LAS TAREJTAS EN LA PAGINA WEB QUE CONTIENEN EL PRECIO, METROS CUADRADOS, UBICACION, ETC.\n",
    "    area = tarjeta.find(\"span\")\n",
    "    lista_m2.append(area.text)\n",
    "    \n",
    "    precio = tarjeta.find(\"div\",attrs = {\"data-qa\":\"POSTING_CARD_PRICE\"}) \n",
    "    lista_precio.append(precio.text)\n",
    "    \n",
    "    ubi = tarjeta.find(\"div\",attrs = {\"data-qa\":\"POSTING_CARD_LOCATION\"})\n",
    "    lista_ubicacion.append(ubi.text)"
   ]
  },
  {
   "cell_type": "code",
   "execution_count": 113,
   "metadata": {},
   "outputs": [],
   "source": [
    "driver_3 = webdriver.Chrome(\"C:/chromedriver.exe\")\n",
    "driver_3.get(URL_3)"
   ]
  },
  {
   "cell_type": "code",
   "execution_count": 140,
   "metadata": {},
   "outputs": [],
   "source": [
    "contenido_3 = driver_3.page_source"
   ]
  },
  {
   "cell_type": "code",
   "execution_count": 141,
   "metadata": {},
   "outputs": [],
   "source": [
    "soup_3 = bs(contenido_3) "
   ]
  },
  {
   "cell_type": "code",
   "execution_count": 142,
   "metadata": {},
   "outputs": [],
   "source": [
    "for tarjeta in soup_3.find_all(\"div\",attrs = {\"class\":\"sc-i1odl-2 gmMYEe\"}): #Dentro del codigo HTML va a encontrar todos los objetos tipos div y con esa clase\n",
    "    #SON LAS TAREJTAS EN LA PAGINA WEB QUE CONTIENEN EL PRECIO, METROS CUADRADOS, UBICACION, ETC.\n",
    "    area = tarjeta.find(\"span\")\n",
    "    lista_m2.append(area.text)\n",
    "    \n",
    "    precio = tarjeta.find(\"div\",attrs = {\"data-qa\":\"POSTING_CARD_PRICE\"}) \n",
    "    lista_precio.append(precio.text)\n",
    "    \n",
    "    ubi = tarjeta.find(\"div\",attrs = {\"data-qa\":\"POSTING_CARD_LOCATION\"})\n",
    "    lista_ubicacion.append(ubi.text)"
   ]
  },
  {
   "cell_type": "code",
   "execution_count": 146,
   "metadata": {},
   "outputs": [
    {
     "data": {
      "text/plain": [
       "[' 370 m² ',\n",
       " ' 140 m² ',\n",
       " ' 158 m² ',\n",
       " ' 250 m² ',\n",
       " ' 304 m² ',\n",
       " ' 212 m² ',\n",
       " ' 273 m² ',\n",
       " ' 308 m² ',\n",
       " ' 288 m² ',\n",
       " ' 238 m² ',\n",
       " ' 284 m² ',\n",
       " ' 560 m² ',\n",
       " ' 225 m² ',\n",
       " ' 3660000 m² ',\n",
       " ' 375 m² ',\n",
       " ' 424 m² ',\n",
       " ' 252 m² ',\n",
       " ' 241 m² ',\n",
       " ' 230 m² ',\n",
       " ' 298 m² ',\n",
       " ' 298 m² ',\n",
       " ' 236 m² ',\n",
       " ' 160 m² ',\n",
       " ' 134 m² ',\n",
       " ' 390 m² ']"
      ]
     },
     "execution_count": 146,
     "metadata": {},
     "output_type": "execute_result"
    }
   ],
   "source": [
    "#IMPRIMIENDO LOS PRIMEROS 25 DATOS DE LA LISTA DE M2\n",
    "lista_m2[0:25]"
   ]
  },
  {
   "cell_type": "code",
   "execution_count": 148,
   "metadata": {},
   "outputs": [
    {
     "data": {
      "text/plain": [
       "['Sierra Alta 6 Sector, Monterrey',\n",
       " 'Cerradas de Cumbres, Monterrey',\n",
       " 'Laderas del Mirador (F-XXI), Monterrey',\n",
       " 'Colonial Cumbres, Monterrey',\n",
       " 'El Uro, Monterrey',\n",
       " 'El Barro, Monterrey',\n",
       " 'San Jerónimo, Monterrey',\n",
       " 'Valle de Cristal, Monterrey',\n",
       " 'Antigua Hacienda Santa Anita, Monterrey',\n",
       " 'Cumbres 4to Sector, Monterrey',\n",
       " 'Aires del Vergel, Monterrey',\n",
       " 'Residencial y Club de Golf La Herradura, Monterrey',\n",
       " 'Vistancias 1er Sector, Monterrey',\n",
       " 'Los Cristales, Monterrey',\n",
       " 'San Jerónimo, Monterrey',\n",
       " 'La Joya Privada residencial, Monterrey',\n",
       " 'Las Cumbres 2 Sector, Monterrey',\n",
       " 'Cumbres, Monterrey',\n",
       " 'Las Cumbres 5 Sector A, Monterrey',\n",
       " 'Monterrey, Nuevo León',\n",
       " 'Monterrey, Nuevo León',\n",
       " 'La Alhambra, Monterrey',\n",
       " 'Cumbres Elite, Monterrey',\n",
       " 'Monterrey, Nuevo León',\n",
       " 'Centro, Monterrey']"
      ]
     },
     "execution_count": 148,
     "metadata": {},
     "output_type": "execute_result"
    }
   ],
   "source": [
    "#IMPRIMIENDO LOS PRIMEROS 25 DATOS DE LA LISTA DE UBICACION\n",
    "lista_ubicacion[0:25]"
   ]
  },
  {
   "cell_type": "code",
   "execution_count": 150,
   "metadata": {},
   "outputs": [],
   "source": [
    "#VAMOS A QUITAR LOS ESPACIOS EN LOS ELEMENTOS DE LA LISTA DE M2\n",
    "lista_m2 = [elemento.replace(\" \",\"\") for elemento in lista_m2]"
   ]
  },
  {
   "cell_type": "code",
   "execution_count": 159,
   "metadata": {},
   "outputs": [],
   "source": [
    "#VAMOS A QUITAR EL SIMBOLO DE MONEDA Y LAS COMAS EN LOS ELEMENTOS DE LA LISTA DE PRECIO\n",
    "#Y VAMOS A QUITAR EL VALOR DE USD EN USD 3500000 QUE NOS DIMOS CUENTA QUE APARECIA EN LA LISTA\n",
    "lista_precio = [precio.replace(\"MN \",\"\") for precio in lista_precio]\n",
    "lista_precio = [precio.replace(\",\",\"\") for precio in lista_precio]\n",
    "lista_precio[lista_precio.index('USD 3500000')] = lista_precio[lista_precio.index('USD 3500000')].replace(\"USD \",\"\")"
   ]
  },
  {
   "cell_type": "markdown",
   "metadata": {},
   "source": [
    "**TRABAJANDO CON PANDAS**"
   ]
  },
  {
   "cell_type": "code",
   "execution_count": null,
   "metadata": {},
   "outputs": [],
   "source": [
    "#CREANDO UN DATA FRAME CON LAS LISTAS ANTERIORES\n",
    "Datos = pd.DataFrame({\"Ubicacion\":lista_ubicacion,\"M2\":lista_m2,\"Precio\":lista_precio})"
   ]
  },
  {
   "cell_type": "code",
   "execution_count": 139,
   "metadata": {},
   "outputs": [
    {
     "data": {
      "text/plain": [
       "'USD 3500000'"
      ]
     },
     "execution_count": 139,
     "metadata": {},
     "output_type": "execute_result"
    }
   ],
   "source": [
    "#NOTAMOS QUE EXISTE EL SIGUIENTE DATO EN EL DATA FRAME\n",
    "#EL CUAL ES DE UNA CASA CON UN VALOR EN DOLARES Y TODAS LAS CASAS TIENEN UN PRECIO EN PESOS MEXICANOS\n",
    "Datos[\"Precio\"][49]"
   ]
  },
  {
   "cell_type": "code",
   "execution_count": null,
   "metadata": {},
   "outputs": [],
   "source": [
    "#VAMOS A ELIMINAR ESA FILA DEL DATA FRAME\n",
    "Datos.drop([49],axis=0,inplace=True)"
   ]
  },
  {
   "cell_type": "code",
   "execution_count": 141,
   "metadata": {},
   "outputs": [
    {
     "data": {
      "text/plain": [
       "13    3660000m²\n",
       "31    3660000m²\n",
       "Name: M2, dtype: object"
      ]
     },
     "execution_count": 141,
     "metadata": {},
     "output_type": "execute_result"
    }
   ],
   "source": [
    "#TAMBIEN NOTAMOS LOS SIGUIENTES DATOS EN LA COLUMNA DE M2, LOS CUALES PRESENTAN MUCHA VARIACION CON LA MAYORIA DE LOS DATOS\n",
    "Datos[\"M2\"][[13,31]]"
   ]
  },
  {
   "cell_type": "code",
   "execution_count": 142,
   "metadata": {},
   "outputs": [],
   "source": [
    "#ELIMINANDO ESOS DATOS DEL DATA FRAME\n",
    "Datos.drop([13,31],axis=0,inplace=True)"
   ]
  },
  {
   "cell_type": "code",
   "execution_count": 145,
   "metadata": {},
   "outputs": [],
   "source": [
    "#ORDENANDO LOS INDICES DEL DATA FRAME\n",
    "Datos.sort_index(inplace=True)"
   ]
  },
  {
   "cell_type": "code",
   "execution_count": 148,
   "metadata": {},
   "outputs": [
    {
     "data": {
      "text/plain": [
       "57"
      ]
     },
     "execution_count": 148,
     "metadata": {},
     "output_type": "execute_result"
    }
   ],
   "source": [
    "#VEMOS QUE DESPUÉS DE ELIMINAR LOS 3 DATOS ANTERIORES LA LONGITUD DEL DATA FRAME ES DE 57 DATOS EN TOTAL\n",
    "len(Datos)"
   ]
  },
  {
   "cell_type": "code",
   "execution_count": 149,
   "metadata": {},
   "outputs": [],
   "source": [
    "#PARA LOS DATOS DE LA COLUMNA DE M2 VAMOS A REALIZARLES UNAS MODIFICACIONES\n",
    "m2_nueva = [] #CREANDO UNA LISTA NUEVA\n",
    "for i in Datos[\"M2\"]:\n",
    "    i = i.replace(\"m²\",\"\") #QUITANDO EL SIMBOLO DE m² A CADA DATO\n",
    "    i = int(i) #CONVIRTIENDO A ENTERO CADA DATO\n",
    "    m2_nueva.append(i) #AGREGANDO ESE DATO A LA LISTA NUEVA"
   ]
  },
  {
   "cell_type": "code",
   "execution_count": 150,
   "metadata": {},
   "outputs": [],
   "source": [
    "Datos[\"M2\"] = m2_nueva #REMPLAZANDO LA COLUMNA DE M2 POR LA LISTA NUEVA CON LAS MODIFICACIONES"
   ]
  },
  {
   "cell_type": "code",
   "execution_count": 193,
   "metadata": {},
   "outputs": [],
   "source": [
    "Datos[\"Precio\"] = Datos[\"Precio\"].astype(int) #CONVIRTIENDO LOS DATOS DE LA COLUMNA PRECIO A INT"
   ]
  },
  {
   "cell_type": "code",
   "execution_count": 194,
   "metadata": {},
   "outputs": [
    {
     "data": {
      "text/plain": [
       "Ubicacion    object\n",
       "M2            int64\n",
       "Precio        int32\n",
       "dtype: object"
      ]
     },
     "execution_count": 194,
     "metadata": {},
     "output_type": "execute_result"
    }
   ],
   "source": [
    "Datos.dtypes #OBTENIENDO LOS TIPOS DE DATOS DE CADA COLUMNA"
   ]
  },
  {
   "cell_type": "code",
   "execution_count": 166,
   "metadata": {},
   "outputs": [],
   "source": [
    "#VAMOS A GUARDAR LOS DATOS DEL DATA FRAME EN UN ARCHIVO CSV\n",
    "Datos.to_csv(\"Casas_en_ventas.csv\",index = False, encoding =\"utf-8\")"
   ]
  },
  {
   "cell_type": "code",
   "execution_count": 15,
   "metadata": {},
   "outputs": [],
   "source": [
    "Datos = pd.read_csv(\"Casas_en_ventas.csv\")"
   ]
  },
  {
   "cell_type": "code",
   "execution_count": 7,
   "metadata": {},
   "outputs": [
    {
     "data": {
      "text/html": [
       "<div>\n",
       "<style scoped>\n",
       "    .dataframe tbody tr th:only-of-type {\n",
       "        vertical-align: middle;\n",
       "    }\n",
       "\n",
       "    .dataframe tbody tr th {\n",
       "        vertical-align: top;\n",
       "    }\n",
       "\n",
       "    .dataframe thead th {\n",
       "        text-align: right;\n",
       "    }\n",
       "</style>\n",
       "<table border=\"1\" class=\"dataframe\">\n",
       "  <thead>\n",
       "    <tr style=\"text-align: right;\">\n",
       "      <th></th>\n",
       "      <th>Ubicacion</th>\n",
       "      <th>M2</th>\n",
       "      <th>Precio</th>\n",
       "    </tr>\n",
       "  </thead>\n",
       "  <tbody>\n",
       "    <tr>\n",
       "      <th>0</th>\n",
       "      <td>Sierra Alta 6 Sector, Monterrey</td>\n",
       "      <td>370</td>\n",
       "      <td>65000</td>\n",
       "    </tr>\n",
       "    <tr>\n",
       "      <th>1</th>\n",
       "      <td>Cerradas de Cumbres, Monterrey</td>\n",
       "      <td>140</td>\n",
       "      <td>3700000</td>\n",
       "    </tr>\n",
       "    <tr>\n",
       "      <th>2</th>\n",
       "      <td>Laderas del Mirador (F-XXI), Monterrey</td>\n",
       "      <td>158</td>\n",
       "      <td>2850000</td>\n",
       "    </tr>\n",
       "    <tr>\n",
       "      <th>3</th>\n",
       "      <td>Colonial Cumbres, Monterrey</td>\n",
       "      <td>250</td>\n",
       "      <td>7900000</td>\n",
       "    </tr>\n",
       "    <tr>\n",
       "      <th>4</th>\n",
       "      <td>El Uro, Monterrey</td>\n",
       "      <td>304</td>\n",
       "      <td>9500000</td>\n",
       "    </tr>\n",
       "    <tr>\n",
       "      <th>5</th>\n",
       "      <td>El Barro, Monterrey</td>\n",
       "      <td>212</td>\n",
       "      <td>8250000</td>\n",
       "    </tr>\n",
       "    <tr>\n",
       "      <th>6</th>\n",
       "      <td>San Jerónimo, Monterrey</td>\n",
       "      <td>273</td>\n",
       "      <td>70000</td>\n",
       "    </tr>\n",
       "    <tr>\n",
       "      <th>7</th>\n",
       "      <td>Valle de Cristal, Monterrey</td>\n",
       "      <td>308</td>\n",
       "      <td>7700000</td>\n",
       "    </tr>\n",
       "    <tr>\n",
       "      <th>8</th>\n",
       "      <td>Antigua Hacienda Santa Anita, Monterrey</td>\n",
       "      <td>288</td>\n",
       "      <td>8800000</td>\n",
       "    </tr>\n",
       "    <tr>\n",
       "      <th>9</th>\n",
       "      <td>Cumbres 4to Sector, Monterrey</td>\n",
       "      <td>238</td>\n",
       "      <td>5750000</td>\n",
       "    </tr>\n",
       "    <tr>\n",
       "      <th>10</th>\n",
       "      <td>Aires del Vergel, Monterrey</td>\n",
       "      <td>284</td>\n",
       "      <td>12500000</td>\n",
       "    </tr>\n",
       "    <tr>\n",
       "      <th>11</th>\n",
       "      <td>Residencial y Club de Golf La Herradura, Monte...</td>\n",
       "      <td>560</td>\n",
       "      <td>21800000</td>\n",
       "    </tr>\n",
       "    <tr>\n",
       "      <th>12</th>\n",
       "      <td>Vistancias 1er Sector, Monterrey</td>\n",
       "      <td>225</td>\n",
       "      <td>8550000</td>\n",
       "    </tr>\n",
       "    <tr>\n",
       "      <th>13</th>\n",
       "      <td>San Jerónimo, Monterrey</td>\n",
       "      <td>375</td>\n",
       "      <td>13700000</td>\n",
       "    </tr>\n",
       "    <tr>\n",
       "      <th>14</th>\n",
       "      <td>La Joya Privada residencial, Monterrey</td>\n",
       "      <td>424</td>\n",
       "      <td>21500000</td>\n",
       "    </tr>\n",
       "    <tr>\n",
       "      <th>15</th>\n",
       "      <td>Las Cumbres 2 Sector, Monterrey</td>\n",
       "      <td>252</td>\n",
       "      <td>6050000</td>\n",
       "    </tr>\n",
       "    <tr>\n",
       "      <th>16</th>\n",
       "      <td>Cumbres, Monterrey</td>\n",
       "      <td>241</td>\n",
       "      <td>3520000</td>\n",
       "    </tr>\n",
       "    <tr>\n",
       "      <th>17</th>\n",
       "      <td>Las Cumbres 5 Sector A, Monterrey</td>\n",
       "      <td>230</td>\n",
       "      <td>6500000</td>\n",
       "    </tr>\n",
       "    <tr>\n",
       "      <th>18</th>\n",
       "      <td>Monterrey, Nuevo León</td>\n",
       "      <td>298</td>\n",
       "      <td>9500000</td>\n",
       "    </tr>\n",
       "    <tr>\n",
       "      <th>19</th>\n",
       "      <td>Monterrey, Nuevo León</td>\n",
       "      <td>298</td>\n",
       "      <td>9500000</td>\n",
       "    </tr>\n",
       "  </tbody>\n",
       "</table>\n",
       "</div>"
      ],
      "text/plain": [
       "                                            Ubicacion   M2    Precio\n",
       "0                     Sierra Alta 6 Sector, Monterrey  370     65000\n",
       "1                      Cerradas de Cumbres, Monterrey  140   3700000\n",
       "2              Laderas del Mirador (F-XXI), Monterrey  158   2850000\n",
       "3                         Colonial Cumbres, Monterrey  250   7900000\n",
       "4                                   El Uro, Monterrey  304   9500000\n",
       "5                                 El Barro, Monterrey  212   8250000\n",
       "6                             San Jerónimo, Monterrey  273     70000\n",
       "7                         Valle de Cristal, Monterrey  308   7700000\n",
       "8             Antigua Hacienda Santa Anita, Monterrey  288   8800000\n",
       "9                       Cumbres 4to Sector, Monterrey  238   5750000\n",
       "10                        Aires del Vergel, Monterrey  284  12500000\n",
       "11  Residencial y Club de Golf La Herradura, Monte...  560  21800000\n",
       "12                   Vistancias 1er Sector, Monterrey  225   8550000\n",
       "13                            San Jerónimo, Monterrey  375  13700000\n",
       "14             La Joya Privada residencial, Monterrey  424  21500000\n",
       "15                    Las Cumbres 2 Sector, Monterrey  252   6050000\n",
       "16                                 Cumbres, Monterrey  241   3520000\n",
       "17                  Las Cumbres 5 Sector A, Monterrey  230   6500000\n",
       "18                              Monterrey, Nuevo León  298   9500000\n",
       "19                              Monterrey, Nuevo León  298   9500000"
      ]
     },
     "execution_count": 7,
     "metadata": {},
     "output_type": "execute_result"
    }
   ],
   "source": [
    "#OBTENIENDO LOS PRIMEROS 20 VALORES DEL DATA FRAME\n",
    "Datos.head(20)"
   ]
  },
  {
   "cell_type": "code",
   "execution_count": 16,
   "metadata": {},
   "outputs": [
    {
     "data": {
      "text/plain": [
       "56"
      ]
     },
     "execution_count": 16,
     "metadata": {},
     "output_type": "execute_result"
    }
   ],
   "source": [
    "#VAMOS A CONCENTRARNOS EN LAS CASAS QUE TIENEN MENOS DE 1500 m2\n",
    "Datos = Datos[Datos[\"M2\"]<1500]\n",
    "len(Datos) #LAS CUALES 56 CASAS (SOLAMENTE UNA CASA TIENE MAS DE 1500 m2)"
   ]
  },
  {
   "cell_type": "code",
   "execution_count": 17,
   "metadata": {},
   "outputs": [
    {
     "data": {
      "text/html": [
       "<div>\n",
       "<style scoped>\n",
       "    .dataframe tbody tr th:only-of-type {\n",
       "        vertical-align: middle;\n",
       "    }\n",
       "\n",
       "    .dataframe tbody tr th {\n",
       "        vertical-align: top;\n",
       "    }\n",
       "\n",
       "    .dataframe thead th {\n",
       "        text-align: right;\n",
       "    }\n",
       "</style>\n",
       "<table border=\"1\" class=\"dataframe\">\n",
       "  <thead>\n",
       "    <tr style=\"text-align: right;\">\n",
       "      <th></th>\n",
       "      <th>M2</th>\n",
       "      <th>Precio</th>\n",
       "    </tr>\n",
       "  </thead>\n",
       "  <tbody>\n",
       "    <tr>\n",
       "      <th>count</th>\n",
       "      <td>56.0</td>\n",
       "      <td>5.6e+01</td>\n",
       "    </tr>\n",
       "    <tr>\n",
       "      <th>mean</th>\n",
       "      <td>336.0</td>\n",
       "      <td>9.0e+06</td>\n",
       "    </tr>\n",
       "    <tr>\n",
       "      <th>std</th>\n",
       "      <td>253.3</td>\n",
       "      <td>7.4e+06</td>\n",
       "    </tr>\n",
       "    <tr>\n",
       "      <th>min</th>\n",
       "      <td>134.0</td>\n",
       "      <td>1.4e+04</td>\n",
       "    </tr>\n",
       "    <tr>\n",
       "      <th>25%</th>\n",
       "      <td>210.5</td>\n",
       "      <td>5.5e+06</td>\n",
       "    </tr>\n",
       "    <tr>\n",
       "      <th>50%</th>\n",
       "      <td>259.0</td>\n",
       "      <td>7.7e+06</td>\n",
       "    </tr>\n",
       "    <tr>\n",
       "      <th>75%</th>\n",
       "      <td>331.8</td>\n",
       "      <td>9.7e+06</td>\n",
       "    </tr>\n",
       "    <tr>\n",
       "      <th>max</th>\n",
       "      <td>1350.0</td>\n",
       "      <td>3.8e+07</td>\n",
       "    </tr>\n",
       "  </tbody>\n",
       "</table>\n",
       "</div>"
      ],
      "text/plain": [
       "           M2   Precio\n",
       "count    56.0  5.6e+01\n",
       "mean    336.0  9.0e+06\n",
       "std     253.3  7.4e+06\n",
       "min     134.0  1.4e+04\n",
       "25%     210.5  5.5e+06\n",
       "50%     259.0  7.7e+06\n",
       "75%     331.8  9.7e+06\n",
       "max    1350.0  3.8e+07"
      ]
     },
     "execution_count": 17,
     "metadata": {},
     "output_type": "execute_result"
    }
   ],
   "source": [
    "#OBTENIENDO UNAS ESTADISTICAS DESCRIPTIVAS DE LAS COLUMNAS DE M2 Y PRECIO\n",
    "Datos.describe()"
   ]
  },
  {
   "cell_type": "markdown",
   "metadata": {},
   "source": [
    "**VISUALIZANDO LOS DATOS**"
   ]
  },
  {
   "cell_type": "code",
   "execution_count": 75,
   "metadata": {},
   "outputs": [
    {
     "data": {
      "image/png": "[encoded data removed]",
      "text/plain": [
       "<Figure size 720x360 with 1 Axes>"
      ]
     },
     "metadata": {},
     "output_type": "display_data"
    }
   ],
   "source": [
    "fig, ax = plt.subplots(figsize=(10, 5))\n",
    "\n",
    "Datos.plot(\n",
    "    x    = \"M2\",\n",
    "    y    = 'Precio',\n",
    "    c    = 'firebrick',\n",
    "    kind = \"scatter\",\n",
    "    ax   = ax\n",
    ")\n",
    "ax.set_title('Distribución de m2 y precio de las casas');\n",
    "ax.set_xlabel(\"Área en m2\")\n",
    "ax.set_ylabel(\"Precio en millones\")\n",
    "plt.show()"
   ]
  },
  {
   "cell_type": "code",
   "execution_count": 19,
   "metadata": {},
   "outputs": [
    {
     "name": "stdout",
     "output_type": "stream",
     "text": [
      "Coeficiente de correlación de Pearson:  0.813192923245884\n",
      "P-value:  2.6623095658804244e-14\n"
     ]
    }
   ],
   "source": [
    "#CORRELACIÓN LINEAL ENTRE LAS DOS VARIABLES\n",
    "corr_test = pearsonr(x = Datos['M2'], y =  Datos['Precio'])\n",
    "print(\"Coeficiente de correlación de Pearson: \", corr_test[0])\n",
    "print(\"P-value: \", corr_test[1])"
   ]
  },
  {
   "cell_type": "markdown",
   "metadata": {},
   "source": [
    "El gráfico y el test de correlación muestran que existe una relación linealentre las variables de área (m2) y precio de las casas,donde la intensidad de ésta es considerable (r = 0.813) y significativa (p-value = 2.66e-14).\\\n",
    "Tiene sentido intentar generar un modelo de regresión lineal con el objetivo de predecir el valor en el precio de las casas en función de su área total."
   ]
  },
  {
   "cell_type": "markdown",
   "metadata": {},
   "source": [
    "**AJUSTE DEL MODELO**"
   ]
  },
  {
   "cell_type": "code",
   "execution_count": 26,
   "metadata": {},
   "outputs": [],
   "source": [
    "from sklearn.linear_model import LinearRegression "
   ]
  },
  {
   "cell_type": "code",
   "execution_count": 27,
   "metadata": {},
   "outputs": [],
   "source": [
    "modelo = LinearRegression()"
   ]
  },
  {
   "cell_type": "code",
   "execution_count": 34,
   "metadata": {},
   "outputs": [
    {
     "data": {
      "text/plain": [
       "LinearRegression()"
      ]
     },
     "execution_count": 34,
     "metadata": {},
     "output_type": "execute_result"
    }
   ],
   "source": [
    "modelo.fit(Datos[\"M2\"].values.reshape(-1,1),Datos[\"Precio\"])"
   ]
  },
  {
   "cell_type": "code",
   "execution_count": 72,
   "metadata": {},
   "outputs": [
    {
     "name": "stdout",
     "output_type": "stream",
     "text": [
      "Intercepción del modelo: 968075.1903809123\n",
      "Coeficiente del modelo: 23876.472835131473\n",
      "Coeficiente de determinación R^2: 0.6612827304171861\n"
     ]
    }
   ],
   "source": [
    "#INFORMACION DEL MODELO\n",
    "print(\"Intercepción del modelo:\",modelo.intercept_)\n",
    "print(\"Coeficiente del modelo:\" ,modelo.coef_.flatten()[0])\n",
    "print(\"Coeficiente de determinación R^2:\", modelo.score(Datos[\"M2\"].values.reshape(-1,1),Datos[\"Precio\"]))"
   ]
  },
  {
   "cell_type": "markdown",
   "metadata": {},
   "source": [
    "La ecuación del modelo de regresión lineal es:\n",
    "\n",
    "**y = 23876.47*x + 968075.19**\n"
   ]
  },
  {
   "cell_type": "markdown",
   "metadata": {},
   "source": [
    "**VISUALIZANDO LOS DATOS CON LA RECTA DE REGRESION**"
   ]
  },
  {
   "cell_type": "code",
   "execution_count": 65,
   "metadata": {},
   "outputs": [],
   "source": [
    "valores_modelo = [modelo.coef_.flatten()[0]*i + modelo.intercept_ for i in Datos[\"M2\"]]"
   ]
  },
  {
   "cell_type": "code",
   "execution_count": 76,
   "metadata": {},
   "outputs": [
    {
     "data": {
      "image/png": "[encoded data removed]",
      "text/plain": [
       "<Figure size 720x360 with 1 Axes>"
      ]
     },
     "metadata": {},
     "output_type": "display_data"
    }
   ],
   "source": [
    "fig, ax = plt.subplots(figsize=(10, 5))\n",
    "\n",
    "Datos.plot(\n",
    "    x    = \"M2\",\n",
    "    y    = 'Precio',\n",
    "    c    = 'firebrick',\n",
    "    kind = \"scatter\",\n",
    "    ax   = ax\n",
    ")\n",
    "ax.set_title('Distribución de m2 y precio de las casas');\n",
    "ax.set_xlabel(\"Área en m2\")\n",
    "ax.set_ylabel(\"Precio en millones\")\n",
    "plt.plot(Datos[\"M2\"],valores_modelo,color = \"cadetblue\")\n",
    "plt.show()"
   ]
  }
 ],
 "metadata": {
  "kernelspec": {
   "display_name": "Python 3",
   "language": "python",
   "name": "python3"
  },
  "language_info": {
   "codemirror_mode": {
    "name": "ipython",
    "version": 3
   },
   "file_extension": ".py",
   "mimetype": "text/x-python",
   "name": "python",
   "nbconvert_exporter": "python",
   "pygments_lexer": "ipython3",
   "version": "3.8.5"
  }
 },
 "nbformat": 4,
 "nbformat_minor": 4
}
